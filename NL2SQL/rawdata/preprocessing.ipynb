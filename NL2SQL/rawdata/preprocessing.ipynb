{
 "cells": [
  {
   "cell_type": "code",
   "execution_count": 9,
   "metadata": {},
   "outputs": [],
   "source": [
    "import pandas as pd\n",
    "\n",
    "DDL = pd.read_csv(\"DDL_SELECTED.csv\")\n",
    "SPIDER = pd.read_csv(\"SPIDER_SELECTED.csv\", encoding='cp949')"
   ]
  },
  {
   "cell_type": "code",
   "execution_count": 11,
   "metadata": {},
   "outputs": [
    {
     "name": "stdout",
     "output_type": "stream",
     "text": [
      "<class 'pandas.core.frame.DataFrame'>\n",
      "RangeIndex: 224 entries, 0 to 223\n",
      "Data columns (total 12 columns):\n",
      " #   Column               Non-Null Count  Dtype \n",
      "---  ------               --------------  ----- \n",
      " 0   original_idx         224 non-null    int64 \n",
      " 1   db_id                224 non-null    object\n",
      " 2   query                224 non-null    object\n",
      " 3   question             224 non-null    object\n",
      " 4   query_toks           224 non-null    object\n",
      " 5   query_toks_no_value  224 non-null    object\n",
      " 6   question_toks        224 non-null    object\n",
      " 7   HAVING               224 non-null    int64 \n",
      " 8   ORDER BY             224 non-null    int64 \n",
      " 9   GROUP BY             224 non-null    int64 \n",
      " 10  JOIN                 224 non-null    int64 \n",
      " 11  SELECT               224 non-null    int64 \n",
      "dtypes: int64(6), object(6)\n",
      "memory usage: 21.1+ KB\n"
     ]
    }
   ],
   "source": [
    "SPIDER.info()"
   ]
  },
  {
   "cell_type": "code",
   "execution_count": 3,
   "metadata": {},
   "outputs": [
    {
     "name": "stdout",
     "output_type": "stream",
     "text": [
      "<class 'pandas.core.frame.DataFrame'>\n",
      "RangeIndex: 434 entries, 0 to 433\n",
      "Data columns (total 4 columns):\n",
      " #   Column      Non-Null Count  Dtype \n",
      "---  ------      --------------  ----- \n",
      " 0   db_id       434 non-null    object\n",
      " 1   table_name  434 non-null    object\n",
      " 2   CREATE      434 non-null    object\n",
      " 3   INSERT      434 non-null    object\n",
      "dtypes: object(4)\n",
      "memory usage: 13.7+ KB\n"
     ]
    }
   ],
   "source": [
    "DDL.info()"
   ]
  },
  {
   "cell_type": "code",
   "execution_count": 153,
   "metadata": {},
   "outputs": [
    {
     "name": "stdout",
     "output_type": "stream",
     "text": [
      "SELECT T3.born_state FROM department AS T1 JOIN management AS T2 ON T1.department_id  =  T2.department_id JOIN head AS T3 ON T2.head_id  =  T3.head_id WHERE T1.name  =  'Treasury' INTERSECT SELECT T3.born_state FROM department AS T1 JOIN management AS T2 ON T1.department_id  =  T2.department_id JOIN head AS T3 ON T2.head_id  =  T3.head_id WHERE T1.name  =  'Homeland Security'\n",
      "SELECT count(*) FROM department WHERE department_id NOT IN (SELECT department_id FROM management);\n"
     ]
    }
   ],
   "source": [
    "qNL1 = \"List the states where both the secretary of 'Treasury' department and the secretary of 'Homeland Security' were born.\"\n",
    "qNL2 = \"How many departments are led by heads who are not mentioned?\"\n",
    "print(SPIDER[SPIDER['question'] == qNL1]['query'][1])\n",
    "print(SPIDER[SPIDER['question'] == qNL2]['query'][0])"
   ]
  },
  {
   "cell_type": "code",
   "execution_count": 161,
   "metadata": {},
   "outputs": [
    {
     "data": {
      "text/plain": [
       "\"SELECT T3.born_state FROM department AS T1 JOIN management AS T2 ON T1.department_id  =  T2.department_id JOIN head AS T3 ON T2.head_id  =  T3.head_id WHERE T1.name  =  'Treasury' INTERSECT SELECT T3.born_state FROM department AS T1 JOIN management AS T2 ON T1.department_id  =  T2.department_id JOIN head AS T3 ON T2.head_id  =  T3.head_id WHERE T1.name  =  'Homeland Security'\""
      ]
     },
     "execution_count": 161,
     "metadata": {},
     "output_type": "execute_result"
    }
   ],
   "source": [
    "SPIDER[SPIDER['question'] == qNL1].loc[:, 'query'].values[0]"
   ]
  },
  {
   "cell_type": "code",
   "execution_count": 19,
   "metadata": {},
   "outputs": [
    {
     "data": {
      "text/plain": [
       "array([[11, 'department_management',\n",
       "        'SELECT count(*) FROM department WHERE department_id NOT IN (SELECT department_id FROM management);',\n",
       "        ..., 0, 0, 2],\n",
       "       [13, 'department_management',\n",
       "        \"SELECT T3.born_state FROM department AS T1 JOIN management AS T2 ON T1.department_id  =  T2.department_id JOIN head AS T3 ON T2.head_id  =  T3.head_id WHERE T1.name  =  'Treasury' INTERSECT SELECT T3.born_state FROM department AS T1 JOIN management AS T2 ON T1.department_id  =  T2.department_id JOIN head AS T3 ON T2.head_id  =  T3.head_id WHERE T1.name  =  'Homeland Security'\",\n",
       "        ..., 0, 4, 2],\n",
       "       [14, 'department_management',\n",
       "        'SELECT T1.department_id ,  T1.name ,  count(*) FROM management AS T2 JOIN department AS T1 ON T1.department_id  =  T2.department_id GROUP BY T1.department_id HAVING count(*)  >  1',\n",
       "        ..., 1, 1, 1],\n",
       "       ...,\n",
       "       [7941, 'dog_kennels',\n",
       "        'SELECT T1.owner_id ,  T1.zip_code FROM Owners AS T1 JOIN Dogs AS T2 ON T1.owner_id  =  T2.owner_id JOIN Treatments AS T3 ON T2.dog_id  =  T3.dog_id GROUP BY T1.owner_id ORDER BY sum(T3.cost_of_treatment) DESC LIMIT 1',\n",
       "        ..., 1, 2, 1],\n",
       "       [7954, 'dog_kennels',\n",
       "        'SELECT T1.name ,  T2.date_of_treatment FROM Dogs AS T1 JOIN Treatments AS T2 ON T1.dog_id  =  T2.dog_id WHERE T1.breed_code  =  ( SELECT breed_code FROM Dogs GROUP BY breed_code ORDER BY count(*) ASC LIMIT 1 )',\n",
       "        ..., 1, 1, 2],\n",
       "       [7955, 'dog_kennels',\n",
       "        'SELECT T1.name ,  T2.date_of_treatment FROM Dogs AS T1 JOIN Treatments AS T2 ON T1.dog_id  =  T2.dog_id WHERE T1.breed_code  =  ( SELECT breed_code FROM Dogs GROUP BY breed_code ORDER BY count(*) ASC LIMIT 1 )',\n",
       "        ..., 1, 1, 2]], dtype=object)"
      ]
     },
     "execution_count": 19,
     "metadata": {},
     "output_type": "execute_result"
    }
   ],
   "source": []
  }
 ],
 "metadata": {
  "kernelspec": {
   "display_name": ".venv",
   "language": "python",
   "name": "python3"
  },
  "language_info": {
   "codemirror_mode": {
    "name": "ipython",
    "version": 3
   },
   "file_extension": ".py",
   "mimetype": "text/x-python",
   "name": "python",
   "nbconvert_exporter": "python",
   "pygments_lexer": "ipython3",
   "version": "3.9.6"
  }
 },
 "nbformat": 4,
 "nbformat_minor": 2
}
