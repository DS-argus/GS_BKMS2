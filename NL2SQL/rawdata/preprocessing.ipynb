{
 "cells": [
  {
   "cell_type": "code",
   "execution_count": 128,
   "metadata": {},
   "outputs": [],
   "source": [
    "import pandas as pd\n",
    "\n",
    "DDL = pd.read_csv(\"DDL_SELECTED.csv\")\n",
    "SPIDER = pd.read_csv(\"SPIDER_SELECTED.csv\", index_col=0)"
   ]
  },
  {
   "cell_type": "code",
   "execution_count": 132,
   "metadata": {},
   "outputs": [
    {
     "name": "stdout",
     "output_type": "stream",
     "text": [
      "<class 'pandas.core.frame.DataFrame'>\n",
      "Index: 224 entries, 0 to 49\n",
      "Data columns (total 12 columns):\n",
      " #   Column               Non-Null Count  Dtype \n",
      "---  ------               --------------  ----- \n",
      " 0   original_idx         224 non-null    int64 \n",
      " 1   db_id                224 non-null    object\n",
      " 2   query                224 non-null    object\n",
      " 3   question             224 non-null    object\n",
      " 4   query_toks           224 non-null    object\n",
      " 5   query_toks_no_value  224 non-null    object\n",
      " 6   question_toks        224 non-null    object\n",
      " 7   HAVING               224 non-null    int64 \n",
      " 8   ORDER BY             224 non-null    int64 \n",
      " 9   GROUP BY             224 non-null    int64 \n",
      " 10  JOIN                 224 non-null    int64 \n",
      " 11  SELECT               224 non-null    int64 \n",
      "dtypes: int64(6), object(6)\n",
      "memory usage: 22.8+ KB\n"
     ]
    }
   ],
   "source": [
    "SPIDER.info()"
   ]
  },
  {
   "cell_type": "code",
   "execution_count": 133,
   "metadata": {},
   "outputs": [
    {
     "name": "stdout",
     "output_type": "stream",
     "text": [
      "<class 'pandas.core.frame.DataFrame'>\n",
      "RangeIndex: 444 entries, 0 to 443\n",
      "Data columns (total 4 columns):\n",
      " #   Column      Non-Null Count  Dtype \n",
      "---  ------      --------------  ----- \n",
      " 0   db_id       444 non-null    object\n",
      " 1   table_name  444 non-null    object\n",
      " 2   CREATE      444 non-null    object\n",
      " 3   INSERT      444 non-null    object\n",
      "dtypes: object(4)\n",
      "memory usage: 14.0+ KB\n"
     ]
    }
   ],
   "source": [
    "DDL.info()"
   ]
  }
 ],
 "metadata": {
  "kernelspec": {
   "display_name": ".venv",
   "language": "python",
   "name": "python3"
  },
  "language_info": {
   "codemirror_mode": {
    "name": "ipython",
    "version": 3
   },
   "file_extension": ".py",
   "mimetype": "text/x-python",
   "name": "python",
   "nbconvert_exporter": "python",
   "pygments_lexer": "ipython3",
   "version": "3.9.6"
  }
 },
 "nbformat": 4,
 "nbformat_minor": 2
}
